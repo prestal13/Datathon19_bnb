{
 "cells": [
  {
   "cell_type": "markdown",
   "metadata": {},
   "source": [
    "# Series Prediction\n",
    "\n",
    "\n"
   ]
  },
  {
   "cell_type": "code",
   "execution_count": 1,
   "metadata": {},
   "outputs": [],
   "source": [
    "import pandas as pd\n",
    "import pandas\n",
    "\n",
    "import matplotlib.pyplot as plt\n",
    "\n",
    "import os\n",
    "\n",
    "import numpy as np\n",
    "import numpy\n",
    "np.random.seed(42)\n",
    "\n",
    "import seaborn as sns\n",
    "import seaborn\n",
    "\n",
    "import sklearn\n",
    "import sklearn as sk\n",
    "\n",
    "import copy\n",
    "from collections import OrderedDict\n",
    "%matplotlib inline\n",
    "\n",
    "import seaborn\n",
    "import seaborn as sns"
   ]
  },
  {
   "cell_type": "markdown",
   "metadata": {},
   "source": [
    "### Data engineering"
   ]
  },
  {
   "cell_type": "code",
   "execution_count": 2,
   "metadata": {},
   "outputs": [],
   "source": [
    "data_static = pd.read_csv('raw_data/Static.csv', ';').drop('CLIENT_ID', axis=1)\n",
    "data_repay  = pd.read_csv('raw_data/Repayments.csv', ';')"
   ]
  },
  {
   "cell_type": "code",
   "execution_count": 3,
   "metadata": {},
   "outputs": [],
   "source": [
    "group = data_repay.groupby('CONTRACT_ID')\n",
    "\n",
    "keys, sum_scheduled, sum_actual, avg_scheduled, avg_actual = [], [], [], [], []\n",
    "last_actual, prelast_actual, prepre_actual = [], [], []\n",
    "\n",
    "for key, df in group:\n",
    "    keys            += df['CONTRACT_ID'].tolist()\n",
    "    sum_scheduled   += df['REPAYMENT_SCHEDULED'].cumsum().tolist()\n",
    "    sum_actual      += (df['REPAYMENT_ACTUAL'].cumsum() - df['REPAYMENT_SCHEDULED']).tolist()\n",
    "    mean_act = []\n",
    "    \n",
    "    last_pair = [0, 0, 0]\n",
    "    for item in df['REPAYMENT_ACTUAL']:\n",
    "        last_actual.append(last_pair[-1])\n",
    "        prelast_actual.append(last_pair[-2])\n",
    "        prepre_actual.append(last_pair[-3])\n",
    "        last_pair.append(item)\n",
    "\n",
    "        \n",
    "    \n",
    "    cnt = 0\n",
    "    for item in (df['REPAYMENT_ACTUAL'].cumsum() - df['REPAYMENT_SCHEDULED']).tolist():\n",
    "        if cnt == 0:\n",
    "            value = 0\n",
    "        else:\n",
    "            value = item / cnt\n",
    "        mean_act.append(value)\n",
    "        cnt += 1\n",
    "    mean_sch = []\n",
    "    cnt = 0\n",
    "    for item in df['REPAYMENT_SCHEDULED'].cumsum().tolist():\n",
    "        cnt += 1\n",
    "        mean_sch.append(item / cnt)\n",
    "    avg_scheduled += mean_sch\n",
    "    avg_actual += mean_act\n",
    "\n",
    "data_repay['CUMSUM_REPAYMENT_SCHEDULED'] = sum_scheduled\n",
    "data_repay['CUMSUM_REPAYMENT_ACTUAL']    = sum_actual\n",
    "data_repay['AVG_REPAYMENT_SCHEDULED']    = avg_scheduled\n",
    "data_repay['AVG_REPAYMENT_ACTUAL']       = avg_actual\n",
    "data_repay['LAST_ACTUAL'] = last_actual\n",
    "data_repay['PRELAST_ACTUAL'] = prelast_actual\n",
    "data_repay['PREPRE_ACTUAL'] = prepre_actual"
   ]
  },
  {
   "cell_type": "code",
   "execution_count": 4,
   "metadata": {},
   "outputs": [],
   "source": [
    "data_join = pd.merge(data_static, data_repay, on='CONTRACT_ID')\n",
    "data_join['BEFORE_GRACE']      = data_join['PAYMENT_TO_INCOME'] / data_join['LOAN_TO_INCOME'] * 100\n",
    "data_join['PERCENT_ACTUAL']    = data_join['REPAYMENT_ACTUAL']  / data_join['CONTRACT_SUM']   * 100\n",
    "data_join['PERCENT_SCHEDULED'] = data_join['REPAYMENT_SCHEDULED'] / data_join['CONTRACT_SUM'] * 100\n",
    "data_join['CUMSUM_PERCENT_ACTUAL']    = data_join['CUMSUM_REPAYMENT_ACTUAL']    / data_join['CONTRACT_SUM'] * 100\n",
    "data_join['CUMSUM_PERCENT_SCHEDULED'] = data_join['CUMSUM_REPAYMENT_SCHEDULED'] / data_join['CONTRACT_SUM'] * 100\n",
    "data_join['AVG_PERCENT_ACTUAL']    = data_join['AVG_REPAYMENT_ACTUAL']    / data_join['CONTRACT_SUM'] * 100\n",
    "data_join['AVG_PERCENT_SCHEDULED'] = data_join['AVG_REPAYMENT_SCHEDULED'] / data_join['CONTRACT_SUM'] * 100\n",
    "data_join['GRACE_ON'] = 1 * np.array(data_join['PERIOD_ID'] <= data_join['GRACE_PERIOD']) \n",
    "data_join['LAST_PERCENT_ACTUAL'] = data_join['LAST_ACTUAL'] / data_join['CONTRACT_SUM']\n",
    "data_join['PRELAST_PERCENT_ACTUAL'] = data_join['PRELAST_ACTUAL'] / data_join['CONTRACT_SUM']\n",
    "data_join['PREPRE_PERCENT_ACTUAL']  = data_join['PREPRE_ACTUAL']  / data_join['CONTRACT_SUM']"
   ]
  },
  {
   "cell_type": "code",
   "execution_count": 5,
   "metadata": {},
   "outputs": [],
   "source": [
    "data_join['RATIO_10'] = 1 * np.array(data_join['LOAN_TO_INCOME'] >= 10)\n",
    "data_join['RATIO_20'] = 1 * np.array(data_join['LOAN_TO_INCOME'] >= 20)\n",
    "data_join['RATIO_30'] = 1 * np.array(data_join['LOAN_TO_INCOME'] >= 30)\n",
    "data_join['RATIO_40'] = 1 * np.array(data_join['LOAN_TO_INCOME'] >= 40)"
   ]
  },
  {
   "cell_type": "code",
   "execution_count": 6,
   "metadata": {},
   "outputs": [],
   "source": [
    "# Adding feature: is grace constant by @Artsem.\n",
    "\n",
    "is_grace_constant = []\n",
    "for key, df in data_join.groupby('CONTRACT_ID'):\n",
    "    df_grace_on = np.array(df['GRACE_ON'])\n",
    "    check_vals  = np.array(df['REPAYMENT_ACTUAL'])\n",
    "    grace_values = set()    \n",
    "    for on, val in zip(df_grace_on, check_vals):\n",
    "        if on == 1:\n",
    "            grace_values.add(val)\n",
    "    append = np.zeros_like(check_vals)\n",
    "    if len(grace_values) < 2:\n",
    "        append += 1\n",
    "    is_grace_constant += append.tolist()\n",
    "\n",
    "data_join['IS_GRACE_CONSTANT'] = np.array(is_grace_constant)"
   ]
  },
  {
   "cell_type": "code",
   "execution_count": 7,
   "metadata": {},
   "outputs": [],
   "source": [
    "contracts = np.array(data_static['CONTRACT_ID'].tolist())\n",
    "shuffled  = copy.deepcopy(contracts)\n",
    "\n",
    "length    = contracts.shape[0]\n",
    "RATIO     = 0.1\n",
    "\n",
    "test_contracts  = shuffled[:int(length * RATIO)].tolist()\n",
    "train_contracts = shuffled[int(length * RATIO):].tolist()\n",
    "\n",
    "data_learn = data_join.dropna(axis=0)\n",
    "\n",
    "data_train = data_learn[data_learn['CONTRACT_ID'].isin(train_contracts)]\n",
    "data_test  = data_learn[data_learn['CONTRACT_ID'].isin( test_contracts)]\n",
    "\n",
    "if not os.path.exists('data'):\n",
    "    os.makedirs('data')\n",
    "if not os.path.exists('data/train_series.csv') or not os.path.exists('data/test_series.csv'):\n",
    "    data_train.to_csv('data/train_series.csv')\n",
    "    data_test.to_csv('data/test_series.csv')\n",
    "if not os.path.exists('data/all_series_with_na.csv'):\n",
    "    data_join.to_csv('data/all_series_with_na.csv')"
   ]
  },
  {
   "cell_type": "code",
   "execution_count": 8,
   "metadata": {},
   "outputs": [],
   "source": [
    "data_train = pd.read_csv('data/train_series.csv').drop(\"Unnamed: 0\", axis=1)\n",
    "data_test  = pd.read_csv('data/test_series.csv' ).drop(\"Unnamed: 0\", axis=1)\n",
    "data_learn = pd.read_csv('data/all_series_with_na.csv').drop(\"Unnamed: 0\", axis=1)"
   ]
  },
  {
   "cell_type": "markdown",
   "metadata": {},
   "source": [
    "### Baseline and Result\n",
    "\n",
    "Result to complete: Series + Scheduled (if known).\n",
    "\n",
    "Result for new item: Series (by the feature profile) + Flask Server.\n",
    "\n",
    "Baseline: copy the scheduled."
   ]
  },
  {
   "cell_type": "code",
   "execution_count": 9,
   "metadata": {},
   "outputs": [],
   "source": [
    "# Method Prototype (for single contract).\n",
    "class IFiller(object):\n",
    "    def fill_series(X_feats, y_ans, regressor): \n",
    "        ''' This is for single fixed user. \n",
    "        y_ans either None or has values and nans to be completed.\n",
    "        returns series for the user '''\n",
    "        raise NotImplemented\n",
    "        "
   ]
  },
  {
   "cell_type": "markdown",
   "metadata": {},
   "source": [
    "## Metrics \n"
   ]
  },
  {
   "cell_type": "code",
   "execution_count": 10,
   "metadata": {},
   "outputs": [
    {
     "name": "stdout",
     "output_type": "stream",
     "text": [
      "IN DTK\n",
      "MAE 24.118156398104265\n",
      "MSE 12600.13526162717\n",
      "MAXERR 3295.17\n",
      "EXPVAR 0.018060973305256467\n",
      "\n",
      "IN PERCENT\n",
      "MAE 2.072682127837031\n",
      "MSE 60.05356126191587\n",
      "MAXERR 98.80957922174642\n",
      "EXPVAR 0.04187262424442051\n"
     ]
    }
   ],
   "source": [
    "from sklearn.metrics import mean_absolute_error, mean_squared_error, max_error, explained_variance_score\n",
    "# y_true, y_pred\n",
    "\n",
    "def print_metrics(y_true, y_pred):\n",
    "    for name, metric in zip([\"MAE\", \"MSE\", \"MAXERR\", \"EXPVAR\"], [\n",
    "            mean_absolute_error, mean_squared_error, max_error, explained_variance_score]):\n",
    "        print(name, metric(y_true, y_pred))\n",
    "        \n",
    "print('IN DTK')\n",
    "print_metrics(data_test['REPAYMENT_ACTUAL'], data_test['REPAYMENT_SCHEDULED'])\n",
    "\n",
    "print('\\nIN PERCENT')\n",
    "print_metrics(data_test['PERCENT_ACTUAL'], data_test['PERCENT_SCHEDULED'])"
   ]
  },
  {
   "cell_type": "markdown",
   "metadata": {},
   "source": [
    "### 1. Next Month  + Predict Percentage + Accumulated Behavior + Schedule Usage.\n",
    "\n",
    "- Random Forest Regression.\n",
    "- Linear Regression.\n",
    "- Lasso.\n",
    "- NN Regression (sklearn).\n",
    "- Boost regression."
   ]
  },
  {
   "cell_type": "code",
   "execution_count": 11,
   "metadata": {},
   "outputs": [],
   "source": [
    "drop_list = [\"PERCENT_ACTUAL\", \"REPAYMENT_ACTUAL\", 'CONTRACT_ID']\n",
    "\n",
    "data_train = pd.read_csv('data/train_series.csv').drop(\"Unnamed: 0\", axis=1)\n",
    "X_train = data_train.drop(drop_list, axis=1)\n",
    "y_train = data_train['PERCENT_ACTUAL']\n",
    "\n",
    "data_test  = pd.read_csv('data/test_series.csv' ).drop(\"Unnamed: 0\", axis=1)\n",
    "X_test = data_test.drop(drop_list, axis=1)\n",
    "y_test = data_test  ['PERCENT_ACTUAL']\n",
    "\n",
    "X_train['GENDER'] = 1 * np.array(X_train['GENDER'] == 'M')\n",
    "X_test ['GENDER'] = 1 * np.array(X_test ['GENDER'] == 'M')"
   ]
  },
  {
   "cell_type": "code",
   "execution_count": 12,
   "metadata": {},
   "outputs": [],
   "source": [
    "from sklearn.preprocessing import StandardScaler\n",
    "\n",
    "drop_reg = [\n",
    "    'PRELAST_ACTUAL', 'LAST_ACTUAL', 'PREPRE_ACTUAL', 'REPAYMENT_SCHEDULED',\n",
    "    'AVG_REPAYMENT_ACTUAL', 'AVG_REPAYMENT_SCHEDULED', \n",
    "    'CUMSUM_REPAYMENT_ACTUAL', 'CUMSUM_REPAYMENT_SCHEDULED'\n",
    "]\n",
    "\n",
    "scaler = StandardScaler()\n",
    "scaler.fit(X_train.drop(columns=drop_reg, axis=1))\n",
    "X_train_reg = scaler.transform(X_train.drop(drop_reg, axis=1))\n",
    "X_test_reg = scaler.transform(X_test.drop(drop_reg, axis=1))"
   ]
  },
  {
   "cell_type": "markdown",
   "metadata": {},
   "source": [
    "#### KNN Regression"
   ]
  },
  {
   "cell_type": "code",
   "execution_count": 13,
   "metadata": {},
   "outputs": [
    {
     "name": "stdout",
     "output_type": "stream",
     "text": [
      "KNN, IN PERCENT\n",
      "MAE 2.265384619760728\n",
      "MSE 44.71759132230355\n",
      "MAXERR 91.11346496093701\n",
      "EXPVAR 0.26770902058725965\n"
     ]
    }
   ],
   "source": [
    "from sklearn.neighbors import KNeighborsRegressor\n",
    "est = KNeighborsRegressor(n_neighbors=15)\n",
    "est.fit(X=X_train_reg, y=y_train)\n",
    "y_pred = est.predict(X_test_reg)\n",
    "print(\"KNN, IN PERCENT\")\n",
    "print_metrics(y_test, y_pred)"
   ]
  },
  {
   "cell_type": "markdown",
   "metadata": {},
   "source": [
    "#### SVR"
   ]
  },
  {
   "cell_type": "code",
   "execution_count": 14,
   "metadata": {},
   "outputs": [
    {
     "name": "stdout",
     "output_type": "stream",
     "text": [
      "SVR, IN PERCENT\n",
      "MAE 1.676262387351723\n",
      "MSE 40.86939823433517\n",
      "MAXERR 94.56385223295682\n",
      "EXPVAR 0.3332248545800398\n"
     ]
    }
   ],
   "source": [
    "from sklearn.svm import SVR\n",
    "est = SVR(C=10.0, gamma='auto')\n",
    "est.fit(X_train_reg, y_train)\n",
    "y_pred = est.predict(X_test_reg)\n",
    "print(\"SVR, IN PERCENT\")\n",
    "print_metrics(y_test, y_pred)"
   ]
  },
  {
   "cell_type": "markdown",
   "metadata": {},
   "source": [
    "#### MLP Regression"
   ]
  },
  {
   "cell_type": "code",
   "execution_count": 15,
   "metadata": {},
   "outputs": [
    {
     "name": "stdout",
     "output_type": "stream",
     "text": [
      "MLP, IN PERCENT\n",
      "MAE 2.038739328548343\n",
      "MSE 27.759130117735904\n",
      "MAXERR 86.33490546580573\n",
      "EXPVAR 0.552320149357244\n"
     ]
    }
   ],
   "source": [
    "from sklearn.neural_network import MLPRegressor\n",
    "est = MLPRegressor(hidden_layer_sizes=(64, 64), max_iter=10000, alpha=0.01)\n",
    "est.fit(X_train, y_train)\n",
    "y_pred = est.predict(X_test)\n",
    "print(\"MLP, IN PERCENT\")\n",
    "print_metrics(y_test, y_pred)"
   ]
  },
  {
   "cell_type": "markdown",
   "metadata": {},
   "source": [
    "#### Gradient Boosting Regressor"
   ]
  },
  {
   "cell_type": "code",
   "execution_count": 16,
   "metadata": {},
   "outputs": [
    {
     "name": "stdout",
     "output_type": "stream",
     "text": [
      "[10:40:52] WARNING: src/objective/regression_obj.cu:152: reg:linear is now deprecated in favor of reg:squarederror.\n"
     ]
    },
    {
     "name": "stderr",
     "output_type": "stream",
     "text": [
      "/Users/work/Library/Python/3.7/lib/python/site-packages/xgboost/core.py:587: FutureWarning: Series.base is deprecated and will be removed in a future version\n",
      "  if getattr(data, 'base', None) is not None and \\\n",
      "/Users/work/Library/Python/3.7/lib/python/site-packages/xgboost/core.py:588: FutureWarning: Series.base is deprecated and will be removed in a future version\n",
      "  data.base is not None and isinstance(data, np.ndarray) \\\n"
     ]
    },
    {
     "name": "stdout",
     "output_type": "stream",
     "text": [
      "MAE 1.9170863483648033\n",
      "MSE 26.204433299192875\n",
      "MAXERR 72.37043956230114\n",
      "EXPVAR 0.5731180173616004\n"
     ]
    }
   ],
   "source": [
    "import xgboost\n",
    "model = xgboost.XGBRegressor(               \n",
    "                 learning_rate=0.01,\n",
    "                 max_depth=4,\n",
    "                 n_estimators=500,                                                                    \n",
    "                 reg_alpha=0.5,\n",
    "                 reg_lambda=0.45,\n",
    "                 seed=42) \n",
    "model.fit(X_train, y_train)\n",
    "y_pred = model.predict(X_test)\n",
    "print_metrics(y_test, y_pred)"
   ]
  },
  {
   "cell_type": "code",
   "execution_count": 17,
   "metadata": {},
   "outputs": [
    {
     "data": {
      "text/plain": [
       "<matplotlib.axes._subplots.AxesSubplot at 0x126ac4630>"
      ]
     },
     "execution_count": 17,
     "metadata": {},
     "output_type": "execute_result"
    },
    {
     "data": {
      "image/png": "[encoded data removed]",
      "text/plain": [
       "<Figure size 1008x504 with 1 Axes>"
      ]
     },
     "metadata": {
      "needs_background": "light"
     },
     "output_type": "display_data"
    }
   ],
   "source": [
    "from xgboost import plot_importance\n",
    "plt.rcParams[\"figure.figsize\"] = (14, 7)\n",
    "plot_importance(model, height=0.2)"
   ]
  },
  {
   "cell_type": "markdown",
   "metadata": {},
   "source": [
    "#### Random Forest"
   ]
  },
  {
   "cell_type": "code",
   "execution_count": null,
   "metadata": {},
   "outputs": [],
   "source": [
    "from sklearn.ensemble import RandomForestRegressor\n",
    "\n",
    "est_rf = RandomForestRegressor(n_estimators=300, max_depth=40, random_state=42, min_samples_leaf=10)\n",
    "est_rf.fit(X_train, y_train)\n",
    "y_pred = est_rf.predict(X_test)\n",
    "print(\"RF, IN PERCENT\")\n",
    "print_metrics(y_test, y_pred)"
   ]
  },
  {
   "cell_type": "code",
   "execution_count": null,
   "metadata": {},
   "outputs": [],
   "source": [
    "cols = copy.deepcopy(X_train.columns).tolist()\n",
    "for idx in range(len(cols)):\n",
    "    cols[idx] = cols[idx].replace(\"_\", \"\\n\")\n",
    "df = pd.DataFrame.from_dict({\n",
    "    'importances' : est_rf.feature_importances_,\n",
    "    'columns'     : cols\n",
    "})\n",
    "plt.figure(figsize=(60,10))\n",
    "sns.barplot(data=df, x='columns', y='importances')"
   ]
  },
  {
   "cell_type": "markdown",
   "metadata": {},
   "source": [
    "#### Ridge Regression"
   ]
  },
  {
   "cell_type": "code",
   "execution_count": null,
   "metadata": {},
   "outputs": [],
   "source": [
    "from sklearn.linear_model import Ridge\n",
    "\n",
    "\n",
    "est = Ridge(alpha=0.1)\n",
    "est.fit(X_train_reg, y_train)\n",
    "y_pred = est.predict(X_test_reg)\n",
    "print(\"RIDGE, IN PERCENT\")\n",
    "print_metrics(y_test, y_pred)"
   ]
  },
  {
   "cell_type": "markdown",
   "metadata": {},
   "source": [
    "#### HuberRegressor"
   ]
  },
  {
   "cell_type": "code",
   "execution_count": null,
   "metadata": {},
   "outputs": [],
   "source": [
    "from sklearn.linear_model import HuberRegressor\n",
    "\n",
    "est = HuberRegressor(alpha=0.1)\n",
    "est.fit(X_train_reg, y_train)\n",
    "y_pred = est.predict(X_test_reg)\n",
    "print(\"HUBER, IN PERCENT\")\n",
    "print_metrics(y_test, y_pred)"
   ]
  },
  {
   "cell_type": "markdown",
   "metadata": {},
   "source": [
    "#### Bayesian Ridge"
   ]
  },
  {
   "cell_type": "code",
   "execution_count": null,
   "metadata": {},
   "outputs": [],
   "source": [
    "from sklearn.linear_model import BayesianRidge\n",
    "est = BayesianRidge(n_iter=400)\n",
    "est.fit(X_train_reg, y_train)\n",
    "y_pred = est.predict(X_test_reg)\n",
    "print(\"BAYESIAN RIDGE, IN PERCENT\")\n",
    "print_metrics(y_test, y_pred)"
   ]
  },
  {
   "cell_type": "markdown",
   "metadata": {},
   "source": [
    "#### Lasso Regression"
   ]
  },
  {
   "cell_type": "code",
   "execution_count": null,
   "metadata": {},
   "outputs": [],
   "source": [
    "from sklearn.linear_model import Lasso\n",
    "est = Lasso(alpha=0.1, max_iter=10000)\n",
    "est.fit(X_train_reg, y_train)\n",
    "y_pred = est.predict(X_test_reg)\n",
    "print(\"LASSO, IN PERCENT\")\n",
    "print_metrics(y_test, y_pred)"
   ]
  },
  {
   "cell_type": "markdown",
   "metadata": {},
   "source": [
    "### 2. Set in N1 + M | F separation.\n"
   ]
  },
  {
   "cell_type": "code",
   "execution_count": null,
   "metadata": {},
   "outputs": [],
   "source": [
    "X_train_male   = X_train[X_train['GENDER'] == 1]\n",
    "y_train_male   = y_train[X_train['GENDER'] == 1]\n",
    "X_train_female = X_train[X_train['GENDER'] == 0]\n",
    "y_train_female = y_train[X_train['GENDER'] == 0]\n",
    "\n",
    "X_test_male    = X_test[X_test['GENDER'] == 1]\n",
    "y_test_male    = y_test[X_test['GENDER'] == 1]\n",
    "X_test_female  = X_test[X_test['GENDER'] == 0]\n",
    "y_test_female  = y_test[X_test['GENDER'] == 0]"
   ]
  },
  {
   "cell_type": "code",
   "execution_count": null,
   "metadata": {},
   "outputs": [],
   "source": [
    "rf_male   = RandomForestRegressor(n_estimators=300, max_depth=40, random_state=42, min_samples_leaf=10)\n",
    "rf_female = RandomForestRegressor(n_estimators=300, max_depth=40, random_state=42, min_samples_leaf=10)\n",
    "\n",
    "rf_male.fit(X_train_male, y_train_male)\n",
    "rf_female.fit(X_train_female, y_train_female)\n",
    "\n",
    "y_pred_male = rf_male.predict(X_test_male)\n",
    "y_pred_female = rf_female.predict(X_test_female)\n",
    "\n",
    "y_true = y_test_male.tolist() + y_test_female.tolist()\n",
    "y_pred = y_pred_male.tolist() + y_pred_female.tolist()\n",
    "\n",
    "print(\"RF GENDER, IN PERCENT\")\n",
    "print_metrics(y_true, y_pred)"
   ]
  },
  {
   "cell_type": "markdown",
   "metadata": {},
   "source": [
    "## 3. Fill missed values in source df."
   ]
  },
  {
   "cell_type": "code",
   "execution_count": null,
   "metadata": {},
   "outputs": [],
   "source": [
    "def generate_series(df):\n",
    "    drop_list = [\"PERCENT_ACTUAL\", \"REPAYMENT_ACTUAL\", \"CONTRACT_ID\"]\n",
    "\n",
    "    columns = list(copy.deepcopy(df.columns))\n",
    "    df_apply = df.drop(drop_list, axis=1)\n",
    "    df_apply['GENDER'] = 1 * np.array(df_apply['GENDER'] == 'M')\n",
    "    \n",
    "    cumsum_repay_actual = 0\n",
    "    last_triple = [0, 0, 0]\n",
    "    \n",
    "    response_percent = []\n",
    "    \n",
    "    for ind in df.index:\n",
    "        contract_sum = df_apply['CONTRACT_SUM'][ind]\n",
    "        features = []\n",
    "        for entry in columns:\n",
    "            if entry in drop_list:\n",
    "                continue\n",
    "            value = df_apply[entry][ind]\n",
    "            if entry == \"CUMSUM_REPAYMENT_ACTUAL\":\n",
    "                value = cumsum_repay_actual\n",
    "            elif entry == \"AVG_REPAYMENT_ACTUAL\":\n",
    "                value = 0\n",
    "                if ind > 0:\n",
    "                    value = cumsum_repay_actual / ind\n",
    "            elif entry == \"CUMSUM_PERCENT_ACTUAL\":\n",
    "                value = cumsum_repay_actual / contract_sum * 100.\n",
    "            elif entry == 'AVG_PERCENT_ACTUAL':\n",
    "                value = 0\n",
    "                if ind > 0:\n",
    "                    value = cumsum_repay_actual / contract_sum * 100. / ind\n",
    "            elif entry == 'LAST_ACTUAL':\n",
    "                value = last_triple[-1]\n",
    "            elif entry == 'LAST_PERCENT_ACTUAL':\n",
    "                value = last_triple[-1] / contract_sum * 100\n",
    "            elif entry == 'PRELAST_ACTUAL':\n",
    "                value = last_triple[-2]\n",
    "            elif entry == 'PRELAST_PERCENT_ACTUAL':\n",
    "                value = last_triple[-2] / contract_sum * 100\n",
    "            elif entry == 'PREPRE_ACTUAL':\n",
    "                value = last_triple[-3]\n",
    "            elif entry == 'PREPRE_PERCENT_ACTUAL':\n",
    "                value = last_triple[-3] / contract_sum * 100\n",
    "            features.append(value)\n",
    "        response = est_rf.predict(np.array([features]))[0]\n",
    "        response_value = response / 100. * contract_sum\n",
    "        cumsum_repay_actual += response_value\n",
    "        if cumsum_repay_actual / contract_sum > 1.:\n",
    "            diff = cumsum_repay_actual - contract_sum\n",
    "            response_value -= diff\n",
    "            response_value = max(response_value, 0)\n",
    "            response = response_value / contract_sum * 100.\n",
    "            cumsum_repay_actual = contract_sum\n",
    "        last_triple.append(response_value)\n",
    "        response_percent.append(response)\n",
    "    return response_percent"
   ]
  },
  {
   "cell_type": "code",
   "execution_count": null,
   "metadata": {},
   "outputs": [],
   "source": [
    "data_final = copy.deepcopy(data_join)\n",
    "\n",
    "\n",
    "def complete_series(df):\n",
    "    drop_list = [\"PERCENT_ACTUAL\", \"REPAYMENT_ACTUAL\", \"CONTRACT_ID\"]\n",
    "\n",
    "    response_percent = []\n",
    "    one_step_response = []\n",
    "    \n",
    "    src_percent = copy.deepcopy(df['PERCENT_ACTUAL'])\n",
    "    \n",
    "    columns = list(copy.deepcopy(df.columns))\n",
    "    df_apply = df.drop(drop_list, axis=1)\n",
    "    df_apply['GENDER'] = 1 * np.array(df_apply['GENDER'] == 'M')\n",
    "    targ_col = df['PERCENT_ACTUAL']\n",
    "    \n",
    "    cumsum_repay_actual = 0\n",
    "    last_triple = [0, 0, 0]\n",
    "    \n",
    "    for ind in df.index:\n",
    "        response = targ_col[ind]\n",
    "        contract_sum = df_apply['CONTRACT_SUM'][ind]\n",
    "        features = []\n",
    "        for entry in columns:\n",
    "            if entry in drop_list:\n",
    "                continue\n",
    "            value = df_apply[entry][ind]\n",
    "            if np.isnan(value):\n",
    "                if entry == \"CUMSUM_REPAYMENT_ACTUAL\":\n",
    "                    value = cumsum_repay_actual\n",
    "                elif entry == \"AVG_REPAYMENT_ACTUAL\":\n",
    "                    value = 0\n",
    "                    if ind > 0:\n",
    "                        value = cumsum_repay_actual / ind\n",
    "                elif entry == \"CUMSUM_PERCENT_ACTUAL\":\n",
    "                    value = cumsum_repay_actual / contract_sum * 100.\n",
    "                elif entry == 'AVG_PERCENT_ACTUAL':\n",
    "                    value = 0\n",
    "                    if ind > 0:\n",
    "                        value = cumsum_repay_actual / contract_sum * 100. / ind\n",
    "                elif entry == 'LAST_ACTUAL':\n",
    "                    value = last_triple[-1]\n",
    "                elif entry == 'LAST_PERCENT_ACTUAL':\n",
    "                    value = last_triple[-1] / contract_sum * 100\n",
    "                elif entry == 'PRELAST_ACTUAL':\n",
    "                    value = last_triple[-2]\n",
    "                elif entry == 'PRELAST_PERCENT_ACTUAL':\n",
    "                    value = last_triple[-2] / contract_sum * 100\n",
    "                elif entry == 'PREPRE_ACTUAL':\n",
    "                    value = last_triple[-3]\n",
    "                elif entry == 'PREPRE_PERCENT_ACTUAL':\n",
    "                    value = last_triple[-3] / contract_sum * 100\n",
    "                else:\n",
    "                    break\n",
    "            features.append(value)\n",
    "        predicted_response = est_rf.predict(np.array([features]))[0]\n",
    "        if np.isnan(response):\n",
    "            response = predicted_response\n",
    "        response_value = response / 100. * contract_sum\n",
    "        cumsum_repay_actual += response_value\n",
    "        if cumsum_repay_actual / contract_sum > 1.:\n",
    "            diff = cumsum_repay_actual - contract_sum\n",
    "            response_value -= diff\n",
    "            response_value = max(response_value, 0)\n",
    "            response = response_value / contract_sum * 100.\n",
    "            cumsum_repay_actual = contract_sum\n",
    "        last_triple.append(response_value)\n",
    "        response_percent.append(response)\n",
    "        one_step_response.append(predicted_response)\n",
    "    return response_percent, one_step_response, src_percent\n",
    "\n",
    "\n"
   ]
  },
  {
   "cell_type": "markdown",
   "metadata": {},
   "source": [
    "#### Plot of Predicted information"
   ]
  },
  {
   "cell_type": "code",
   "execution_count": null,
   "metadata": {},
   "outputs": [],
   "source": [
    "import pickle\n",
    "pickle.dump(est_rf, open(\"picklerf_est.pickle\", \"wb\"))"
   ]
  },
  {
   "cell_type": "code",
   "execution_count": null,
   "metadata": {},
   "outputs": [],
   "source": [
    "counter = 1\n",
    "for key, df in data_final.groupby('CONTRACT_ID'):\n",
    "    generated = generate_series(df)\n",
    "    response_percent, one_step_response, src_percent = complete_series(df)\n",
    "    df = pd.DataFrame.from_dict(OrderedDict({\n",
    "        'generated' : np.array(generated)[:20],\n",
    "        'one_step'  : np.array(one_step_response)[:20],\n",
    "        'completed' : np.array(response_percent)[:20],\n",
    "        'source'    : np.array(src_percent)[:20]\n",
    "    }))\n",
    "    df.plot(figsize=(12, 12), linewidth = 5)\n",
    "    counter += 1\n",
    "    if counter > 10:\n",
    "        break"
   ]
  },
  {
   "cell_type": "code",
   "execution_count": null,
   "metadata": {},
   "outputs": [],
   "source": []
  }
 ],
 "metadata": {
  "kernelspec": {
   "display_name": "Python 3",
   "language": "python",
   "name": "python3"
  },
  "language_info": {
   "codemirror_mode": {
    "name": "ipython",
    "version": 3
   },
   "file_extension": ".py",
   "mimetype": "text/x-python",
   "name": "python",
   "nbconvert_exporter": "python",
   "pygments_lexer": "ipython3",
   "version": "3.7.3"
  }
 },
 "nbformat": 4,
 "nbformat_minor": 2
}
