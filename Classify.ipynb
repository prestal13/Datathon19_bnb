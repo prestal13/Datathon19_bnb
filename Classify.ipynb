{
 "cells": [
  {
   "cell_type": "code",
   "execution_count": 1,
   "metadata": {},
   "outputs": [],
   "source": [
    "import pandas as pd\n",
    "import pandas\n",
    "\n",
    "import matplotlib.pyplot as plt\n",
    "\n",
    "import os\n",
    "\n",
    "import numpy as np\n",
    "import numpy\n",
    "np.random.seed(42)\n",
    "\n",
    "import seaborn as sns\n",
    "import seaborn\n",
    "\n",
    "import sklearn\n",
    "import sklearn as sk\n",
    "\n",
    "import copy\n",
    "from collections import OrderedDict\n",
    "%matplotlib inline\n",
    "\n",
    "import seaborn\n",
    "import seaborn as sns"
   ]
  },
  {
   "cell_type": "code",
   "execution_count": 2,
   "metadata": {},
   "outputs": [],
   "source": [
    "data_classes = pd.read_csv('processed_data/data.csv')\n",
    "data_static = pd.read_csv('raw_data/Static.csv', ';').drop('CLIENT_ID', axis=1)\n",
    "data_join = pd.merge(data_static, data_classes, on='CONTRACT_ID')"
   ]
  },
  {
   "cell_type": "code",
   "execution_count": 3,
   "metadata": {},
   "outputs": [],
   "source": [
    "contracts = np.array(data_static['CONTRACT_ID'].tolist())\n",
    "shuffled  = copy.deepcopy(contracts)\n",
    "\n",
    "length    = contracts.shape[0]\n",
    "RATIO     = 0.1\n",
    "\n",
    "test_contracts  = shuffled[:int(length * RATIO)].tolist()\n",
    "train_contracts = shuffled[int(length * RATIO):].tolist()\n",
    "\n",
    "data_learn = data_join.dropna(axis=0)\n",
    "\n",
    "data_learn['GENDER'] = 1 * np.array(data_learn['GENDER'] == 'M')\n",
    "\n",
    "data_train = data_learn[data_learn['CONTRACT_ID'].isin(train_contracts)].drop('CONTRACT_ID', axis=1)\n",
    "data_test  = data_learn[data_learn['CONTRACT_ID'].isin( test_contracts)].drop('CONTRACT_ID', axis=1)"
   ]
  },
  {
   "cell_type": "code",
   "execution_count": 4,
   "metadata": {},
   "outputs": [],
   "source": [
    "ways = ['sdtw_km', 'dba_km', 'km', 'gak_km', 'ks']\n",
    "data_feats = {\n",
    "    'train' : data_train.drop(columns=ways),\n",
    "    'test'  :  data_test.drop(columns=ways)\n",
    "}\n",
    "data_classes = {\n",
    "    'train' : {},\n",
    "    'test'  : {}\n",
    "}\n",
    "for item in ways:\n",
    "    data_classes['train'][item] = data_train[item]\n",
    "    data_classes['test'][item] = data_test[item]"
   ]
  },
  {
   "cell_type": "code",
   "execution_count": 13,
   "metadata": {},
   "outputs": [
    {
     "name": "stderr",
     "output_type": "stream",
     "text": [
      "/Users/work/Library/Python/3.7/lib/python/site-packages/sklearn/metrics/classification.py:1437: UndefinedMetricWarning: F-score is ill-defined and being set to 0.0 in labels with no predicted samples.\n",
      "  'precision', 'predicted', average, warn_for)\n",
      "/Users/work/Library/Python/3.7/lib/python/site-packages/sklearn/metrics/classification.py:1437: UndefinedMetricWarning: F-score is ill-defined and being set to 0.0 in labels with no predicted samples.\n",
      "  'precision', 'predicted', average, warn_for)\n",
      "/Users/work/Library/Python/3.7/lib/python/site-packages/sklearn/metrics/classification.py:1437: UndefinedMetricWarning: F-score is ill-defined and being set to 0.0 in labels with no predicted samples.\n",
      "  'precision', 'predicted', average, warn_for)\n",
      "/Users/work/Library/Python/3.7/lib/python/site-packages/sklearn/metrics/classification.py:1437: UndefinedMetricWarning: F-score is ill-defined and being set to 0.0 in labels with no predicted samples.\n",
      "  'precision', 'predicted', average, warn_for)\n",
      "/Users/work/Library/Python/3.7/lib/python/site-packages/sklearn/metrics/classification.py:1437: UndefinedMetricWarning: F-score is ill-defined and being set to 0.0 in labels with no predicted samples.\n",
      "  'precision', 'predicted', average, warn_for)\n"
     ]
    }
   ],
   "source": [
    "from sklearn.ensemble import RandomForestClassifier\n",
    "from sklearn.metrics import classification_report\n",
    "from sklearn.metrics import accuracy_score, f1_score\n",
    "\n",
    "rf_algos = {}\n",
    "rf_scores = {}\n",
    "rf_predictions = {}\n",
    "\n",
    "for way in ways:\n",
    "    clf_rf = RandomForestClassifier(n_estimators=300, max_depth=40, random_state=42, min_samples_leaf=10)\n",
    "    clf_rf.fit(data_feats['train'], data_classes['train'][way])\n",
    "    rf_predictions[way] = clf_rf.predict(data_feats['test'])\n",
    "    rf_algos[way]  = clf_rf\n",
    "    rf_scores[way] = {\n",
    "        'accuracy' : accuracy_score(data_classes['test'][way], rf_predictions[way]),\n",
    "        'f1_score' : f1_score(data_classes['test'][way], rf_predictions[way], average='weighted')\n",
    "    }"
   ]
  },
  {
   "cell_type": "code",
   "execution_count": 14,
   "metadata": {},
   "outputs": [
    {
     "name": "stdout",
     "output_type": "stream",
     "text": [
      "sdtw_km \n",
      " {'accuracy': 0.22691292875989447, 'f1_score': 0.19385874937598047}\n",
      "dba_km \n",
      " {'accuracy': 0.24538258575197888, 'f1_score': 0.1995088417122015}\n",
      "km \n",
      " {'accuracy': 0.5514511873350924, 'f1_score': 0.481848180950691}\n",
      "gak_km \n",
      " {'accuracy': 0.2691292875989446, 'f1_score': 0.233878617551794}\n",
      "ks \n",
      " {'accuracy': 0.33773087071240104, 'f1_score': 0.27101026418695023}\n"
     ]
    }
   ],
   "source": [
    "for key, report in rf_scores.items():\n",
    "    print(key, '\\n', report)"
   ]
  },
  {
   "cell_type": "code",
   "execution_count": 18,
   "metadata": {},
   "outputs": [],
   "source": [
    "import pickle\n",
    "pickle.dump(rf_algos, open('pickle_data/rf_clf.pickle', 'wb'))"
   ]
  },
  {
   "cell_type": "code",
   "execution_count": null,
   "metadata": {},
   "outputs": [],
   "source": []
  }
 ],
 "metadata": {
  "kernelspec": {
   "display_name": "Python 3",
   "language": "python",
   "name": "python3"
  },
  "language_info": {
   "codemirror_mode": {
    "name": "ipython",
    "version": 3
   },
   "file_extension": ".py",
   "mimetype": "text/x-python",
   "name": "python",
   "nbconvert_exporter": "python",
   "pygments_lexer": "ipython3",
   "version": "3.7.3"
  }
 },
 "nbformat": 4,
 "nbformat_minor": 2
}
