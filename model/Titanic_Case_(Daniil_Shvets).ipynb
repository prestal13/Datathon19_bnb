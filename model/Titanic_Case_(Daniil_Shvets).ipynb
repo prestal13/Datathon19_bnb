{
 "cells": [
  {
   "cell_type": "markdown",
   "metadata": {
    "heading_collapsed": true
   },
   "source": [
    "# Preparation"
   ]
  },
  {
   "cell_type": "code",
   "execution_count": 1,
   "metadata": {
    "hidden": true,
    "scrolled": true
   },
   "outputs": [],
   "source": [
    "import pandas as pd\n",
    "import numpy as np\n",
    "import matplotlib.pyplot as plt\n",
    "import seaborn as sns\n",
    "from scipy import stats\n",
    "from sklearn.feature_selection import SelectKBest, chi2\n",
    "from sklearn.model_selection import cross_val_score, GridSearchCV\n",
    "from sklearn.linear_model import LogisticRegression, SGDClassifier\n",
    "from sklearn.tree import DecisionTreeClassifier\n",
    "from sklearn.ensemble import RandomForestClassifier, GradientBoostingClassifier\n",
    "from sklearn.metrics import classification_report"
   ]
  },
  {
   "cell_type": "code",
   "execution_count": 2,
   "metadata": {
    "hidden": true
   },
   "outputs": [],
   "source": [
    "filename = 'train.csv'"
   ]
  },
  {
   "cell_type": "markdown",
   "metadata": {
    "hidden": true
   },
   "source": [
    "First of all we read the file leaving apart unnecessary columns with non-grouppable unique values."
   ]
  },
  {
   "cell_type": "code",
   "execution_count": 3,
   "metadata": {
    "hidden": true
   },
   "outputs": [],
   "source": [
    "df = pd.read_csv(filename).drop(['Ticket', 'PassengerId', 'Cabin'], axis = 1)"
   ]
  },
  {
   "cell_type": "code",
   "execution_count": 4,
   "metadata": {
    "hidden": true
   },
   "outputs": [
    {
     "data": {
      "text/html": [
       "<div>\n",
       "<style scoped>\n",
       "    .dataframe tbody tr th:only-of-type {\n",
       "        vertical-align: middle;\n",
       "    }\n",
       "\n",
       "    .dataframe tbody tr th {\n",
       "        vertical-align: top;\n",
       "    }\n",
       "\n",
       "    .dataframe thead th {\n",
       "        text-align: right;\n",
       "    }\n",
       "</style>\n",
       "<table border=\"1\" class=\"dataframe\">\n",
       "  <thead>\n",
       "    <tr style=\"text-align: right;\">\n",
       "      <th></th>\n",
       "      <th>Survived</th>\n",
       "      <th>Pclass</th>\n",
       "      <th>Name</th>\n",
       "      <th>Sex</th>\n",
       "      <th>Age</th>\n",
       "      <th>SibSp</th>\n",
       "      <th>Parch</th>\n",
       "      <th>Fare</th>\n",
       "      <th>Embarked</th>\n",
       "    </tr>\n",
       "  </thead>\n",
       "  <tbody>\n",
       "    <tr>\n",
       "      <th>0</th>\n",
       "      <td>0</td>\n",
       "      <td>3</td>\n",
       "      <td>Braund, Mr. Owen Harris</td>\n",
       "      <td>male</td>\n",
       "      <td>22.0</td>\n",
       "      <td>1</td>\n",
       "      <td>0</td>\n",
       "      <td>7.2500</td>\n",
       "      <td>S</td>\n",
       "    </tr>\n",
       "    <tr>\n",
       "      <th>1</th>\n",
       "      <td>1</td>\n",
       "      <td>1</td>\n",
       "      <td>Cumings, Mrs. John Bradley (Florence Briggs Th...</td>\n",
       "      <td>female</td>\n",
       "      <td>38.0</td>\n",
       "      <td>1</td>\n",
       "      <td>0</td>\n",
       "      <td>71.2833</td>\n",
       "      <td>C</td>\n",
       "    </tr>\n",
       "    <tr>\n",
       "      <th>2</th>\n",
       "      <td>1</td>\n",
       "      <td>3</td>\n",
       "      <td>Heikkinen, Miss. Laina</td>\n",
       "      <td>female</td>\n",
       "      <td>26.0</td>\n",
       "      <td>0</td>\n",
       "      <td>0</td>\n",
       "      <td>7.9250</td>\n",
       "      <td>S</td>\n",
       "    </tr>\n",
       "    <tr>\n",
       "      <th>3</th>\n",
       "      <td>1</td>\n",
       "      <td>1</td>\n",
       "      <td>Futrelle, Mrs. Jacques Heath (Lily May Peel)</td>\n",
       "      <td>female</td>\n",
       "      <td>35.0</td>\n",
       "      <td>1</td>\n",
       "      <td>0</td>\n",
       "      <td>53.1000</td>\n",
       "      <td>S</td>\n",
       "    </tr>\n",
       "    <tr>\n",
       "      <th>4</th>\n",
       "      <td>0</td>\n",
       "      <td>3</td>\n",
       "      <td>Allen, Mr. William Henry</td>\n",
       "      <td>male</td>\n",
       "      <td>35.0</td>\n",
       "      <td>0</td>\n",
       "      <td>0</td>\n",
       "      <td>8.0500</td>\n",
       "      <td>S</td>\n",
       "    </tr>\n",
       "  </tbody>\n",
       "</table>\n",
       "</div>"
      ],
      "text/plain": [
       "   Survived  Pclass                                               Name  \\\n",
       "0         0       3                            Braund, Mr. Owen Harris   \n",
       "1         1       1  Cumings, Mrs. John Bradley (Florence Briggs Th...   \n",
       "2         1       3                             Heikkinen, Miss. Laina   \n",
       "3         1       1       Futrelle, Mrs. Jacques Heath (Lily May Peel)   \n",
       "4         0       3                           Allen, Mr. William Henry   \n",
       "\n",
       "      Sex   Age  SibSp  Parch     Fare Embarked  \n",
       "0    male  22.0      1      0   7.2500        S  \n",
       "1  female  38.0      1      0  71.2833        C  \n",
       "2  female  26.0      0      0   7.9250        S  \n",
       "3  female  35.0      1      0  53.1000        S  \n",
       "4    male  35.0      0      0   8.0500        S  "
      ]
     },
     "execution_count": 4,
     "metadata": {},
     "output_type": "execute_result"
    }
   ],
   "source": [
    "df.head()"
   ]
  },
  {
   "cell_type": "code",
   "execution_count": 5,
   "metadata": {
    "hidden": true
   },
   "outputs": [
    {
     "name": "stdout",
     "output_type": "stream",
     "text": [
      "<class 'pandas.core.frame.DataFrame'>\n",
      "RangeIndex: 891 entries, 0 to 890\n",
      "Data columns (total 9 columns):\n",
      "Survived    891 non-null int64\n",
      "Pclass      891 non-null int64\n",
      "Name        891 non-null object\n",
      "Sex         891 non-null object\n",
      "Age         714 non-null float64\n",
      "SibSp       891 non-null int64\n",
      "Parch       891 non-null int64\n",
      "Fare        891 non-null float64\n",
      "Embarked    889 non-null object\n",
      "dtypes: float64(2), int64(4), object(3)\n",
      "memory usage: 62.7+ KB\n"
     ]
    }
   ],
   "source": [
    "df.info()"
   ]
  },
  {
   "cell_type": "markdown",
   "metadata": {
    "heading_collapsed": true
   },
   "source": [
    "# Cleaning"
   ]
  },
  {
   "cell_type": "markdown",
   "metadata": {
    "hidden": true
   },
   "source": [
    "First of all lets get rid of the two entries with the absent information about embarkment."
   ]
  },
  {
   "cell_type": "code",
   "execution_count": 6,
   "metadata": {
    "hidden": true
   },
   "outputs": [],
   "source": [
    "df=df[df['Embarked'].notnull()].reset_index(drop=True)"
   ]
  },
  {
   "cell_type": "markdown",
   "metadata": {
    "hidden": true
   },
   "source": [
    "After that we create the binary variable indicating whether the passanger has a family. Obvoiusly, this creates some data redundancy, but it will be leveled by the ML tools afterwards."
   ]
  },
  {
   "cell_type": "code",
   "execution_count": 7,
   "metadata": {
    "hidden": true
   },
   "outputs": [],
   "source": [
    "df['Family'] = (df['SibSp'] + df['Parch'] > 0).astype(int)"
   ]
  },
  {
   "cell_type": "markdown",
   "metadata": {
    "hidden": true
   },
   "source": [
    "Also lets make the binary Sex variable numerical."
   ]
  },
  {
   "cell_type": "code",
   "execution_count": 8,
   "metadata": {
    "hidden": true
   },
   "outputs": [],
   "source": [
    "df['Sex'] = df['Sex'].replace('female', 0).replace('male', 1)"
   ]
  },
  {
   "cell_type": "markdown",
   "metadata": {
    "hidden": true
   },
   "source": [
    "The next section fills the entries with the absent age with the median age for the group with of same sex and passanger class as the one of the entry."
   ]
  },
  {
   "cell_type": "code",
   "execution_count": 9,
   "metadata": {
    "hidden": true
   },
   "outputs": [],
   "source": [
    "age_median = df.groupby(['Sex','Pclass'])['Age'].median()"
   ]
  },
  {
   "cell_type": "code",
   "execution_count": 10,
   "metadata": {
    "hidden": true
   },
   "outputs": [],
   "source": [
    "def age_estimator(entry):\n",
    "    if pd.isnull(entry['Age']):\n",
    "        return age_median[entry['Sex'],entry['Pclass']]\n",
    "    return entry['Age']"
   ]
  },
  {
   "cell_type": "code",
   "execution_count": 11,
   "metadata": {
    "hidden": true
   },
   "outputs": [],
   "source": [
    "df['Age'] = df.apply(age_estimator, axis=1)"
   ]
  },
  {
   "cell_type": "markdown",
   "metadata": {
    "hidden": true
   },
   "source": [
    "Also, lets extract the prefix from the names."
   ]
  },
  {
   "cell_type": "code",
   "execution_count": 12,
   "metadata": {
    "code_folding": [],
    "hidden": true
   },
   "outputs": [],
   "source": [
    "def prefix(x):\n",
    "    if 'Mrs.' in str(x):\n",
    "        return 'Mrs.'\n",
    "    elif 'Mr.' in str(x):\n",
    "        return 'Mr.'\n",
    "    elif 'Miss.' in str(x):\n",
    "        return 'Miss.'\n",
    "    elif 'Master.' in str(x):\n",
    "        return 'Master.'\n",
    "    elif 'Dr.' in str(x):\n",
    "        return 'Dr.'\n",
    "    return 'Other'"
   ]
  },
  {
   "cell_type": "code",
   "execution_count": 13,
   "metadata": {
    "hidden": true
   },
   "outputs": [],
   "source": [
    "df['Prefix']=[prefix(i) for i in df['Name']]"
   ]
  },
  {
   "cell_type": "code",
   "execution_count": 14,
   "metadata": {
    "hidden": true
   },
   "outputs": [],
   "source": [
    "del df['Name']"
   ]
  },
  {
   "cell_type": "markdown",
   "metadata": {
    "hidden": true
   },
   "source": [
    "Then lets create dummy columns for the values of both categorical columns."
   ]
  },
  {
   "cell_type": "code",
   "execution_count": 15,
   "metadata": {
    "hidden": true
   },
   "outputs": [],
   "source": [
    "for categorical_column in ['Embarked', 'Prefix']:\n",
    "    for i in df[categorical_column].unique():\n",
    "        df['{}_{}'.format(categorical_column, i)] = [int(j == i) for j in df[categorical_column]]"
   ]
  },
  {
   "cell_type": "code",
   "execution_count": 16,
   "metadata": {
    "hidden": true
   },
   "outputs": [],
   "source": [
    "del df['Embarked']\n",
    "del df['Prefix']"
   ]
  },
  {
   "cell_type": "code",
   "execution_count": 17,
   "metadata": {
    "hidden": true,
    "scrolled": true
   },
   "outputs": [
    {
     "data": {
      "text/html": [
       "<div>\n",
       "<style scoped>\n",
       "    .dataframe tbody tr th:only-of-type {\n",
       "        vertical-align: middle;\n",
       "    }\n",
       "\n",
       "    .dataframe tbody tr th {\n",
       "        vertical-align: top;\n",
       "    }\n",
       "\n",
       "    .dataframe thead th {\n",
       "        text-align: right;\n",
       "    }\n",
       "</style>\n",
       "<table border=\"1\" class=\"dataframe\">\n",
       "  <thead>\n",
       "    <tr style=\"text-align: right;\">\n",
       "      <th></th>\n",
       "      <th>Survived</th>\n",
       "      <th>Pclass</th>\n",
       "      <th>Sex</th>\n",
       "      <th>Age</th>\n",
       "      <th>SibSp</th>\n",
       "      <th>Parch</th>\n",
       "      <th>Fare</th>\n",
       "      <th>Family</th>\n",
       "      <th>Embarked_S</th>\n",
       "      <th>Embarked_C</th>\n",
       "      <th>Embarked_Q</th>\n",
       "      <th>Prefix_Mr.</th>\n",
       "      <th>Prefix_Mrs.</th>\n",
       "      <th>Prefix_Miss.</th>\n",
       "      <th>Prefix_Master.</th>\n",
       "      <th>Prefix_Other</th>\n",
       "      <th>Prefix_Dr.</th>\n",
       "    </tr>\n",
       "  </thead>\n",
       "  <tbody>\n",
       "    <tr>\n",
       "      <th>0</th>\n",
       "      <td>0</td>\n",
       "      <td>3</td>\n",
       "      <td>1</td>\n",
       "      <td>22.0</td>\n",
       "      <td>1</td>\n",
       "      <td>0</td>\n",
       "      <td>7.2500</td>\n",
       "      <td>1</td>\n",
       "      <td>1</td>\n",
       "      <td>0</td>\n",
       "      <td>0</td>\n",
       "      <td>1</td>\n",
       "      <td>0</td>\n",
       "      <td>0</td>\n",
       "      <td>0</td>\n",
       "      <td>0</td>\n",
       "      <td>0</td>\n",
       "    </tr>\n",
       "    <tr>\n",
       "      <th>1</th>\n",
       "      <td>1</td>\n",
       "      <td>1</td>\n",
       "      <td>0</td>\n",
       "      <td>38.0</td>\n",
       "      <td>1</td>\n",
       "      <td>0</td>\n",
       "      <td>71.2833</td>\n",
       "      <td>1</td>\n",
       "      <td>0</td>\n",
       "      <td>1</td>\n",
       "      <td>0</td>\n",
       "      <td>0</td>\n",
       "      <td>1</td>\n",
       "      <td>0</td>\n",
       "      <td>0</td>\n",
       "      <td>0</td>\n",
       "      <td>0</td>\n",
       "    </tr>\n",
       "    <tr>\n",
       "      <th>2</th>\n",
       "      <td>1</td>\n",
       "      <td>3</td>\n",
       "      <td>0</td>\n",
       "      <td>26.0</td>\n",
       "      <td>0</td>\n",
       "      <td>0</td>\n",
       "      <td>7.9250</td>\n",
       "      <td>0</td>\n",
       "      <td>1</td>\n",
       "      <td>0</td>\n",
       "      <td>0</td>\n",
       "      <td>0</td>\n",
       "      <td>0</td>\n",
       "      <td>1</td>\n",
       "      <td>0</td>\n",
       "      <td>0</td>\n",
       "      <td>0</td>\n",
       "    </tr>\n",
       "    <tr>\n",
       "      <th>3</th>\n",
       "      <td>1</td>\n",
       "      <td>1</td>\n",
       "      <td>0</td>\n",
       "      <td>35.0</td>\n",
       "      <td>1</td>\n",
       "      <td>0</td>\n",
       "      <td>53.1000</td>\n",
       "      <td>1</td>\n",
       "      <td>1</td>\n",
       "      <td>0</td>\n",
       "      <td>0</td>\n",
       "      <td>0</td>\n",
       "      <td>1</td>\n",
       "      <td>0</td>\n",
       "      <td>0</td>\n",
       "      <td>0</td>\n",
       "      <td>0</td>\n",
       "    </tr>\n",
       "    <tr>\n",
       "      <th>4</th>\n",
       "      <td>0</td>\n",
       "      <td>3</td>\n",
       "      <td>1</td>\n",
       "      <td>35.0</td>\n",
       "      <td>0</td>\n",
       "      <td>0</td>\n",
       "      <td>8.0500</td>\n",
       "      <td>0</td>\n",
       "      <td>1</td>\n",
       "      <td>0</td>\n",
       "      <td>0</td>\n",
       "      <td>1</td>\n",
       "      <td>0</td>\n",
       "      <td>0</td>\n",
       "      <td>0</td>\n",
       "      <td>0</td>\n",
       "      <td>0</td>\n",
       "    </tr>\n",
       "  </tbody>\n",
       "</table>\n",
       "</div>"
      ],
      "text/plain": [
       "   Survived  Pclass  Sex   Age  SibSp  Parch     Fare  Family  Embarked_S  \\\n",
       "0         0       3    1  22.0      1      0   7.2500       1           1   \n",
       "1         1       1    0  38.0      1      0  71.2833       1           0   \n",
       "2         1       3    0  26.0      0      0   7.9250       0           1   \n",
       "3         1       1    0  35.0      1      0  53.1000       1           1   \n",
       "4         0       3    1  35.0      0      0   8.0500       0           1   \n",
       "\n",
       "   Embarked_C  Embarked_Q  Prefix_Mr.  Prefix_Mrs.  Prefix_Miss.  \\\n",
       "0           0           0           1            0             0   \n",
       "1           1           0           0            1             0   \n",
       "2           0           0           0            0             1   \n",
       "3           0           0           0            1             0   \n",
       "4           0           0           1            0             0   \n",
       "\n",
       "   Prefix_Master.  Prefix_Other  Prefix_Dr.  \n",
       "0               0             0           0  \n",
       "1               0             0           0  \n",
       "2               0             0           0  \n",
       "3               0             0           0  \n",
       "4               0             0           0  "
      ]
     },
     "execution_count": 17,
     "metadata": {},
     "output_type": "execute_result"
    }
   ],
   "source": [
    "df.head()"
   ]
  },
  {
   "cell_type": "code",
   "execution_count": 18,
   "metadata": {
    "hidden": true
   },
   "outputs": [
    {
     "name": "stdout",
     "output_type": "stream",
     "text": [
      "<class 'pandas.core.frame.DataFrame'>\n",
      "RangeIndex: 889 entries, 0 to 888\n",
      "Data columns (total 17 columns):\n",
      "Survived          889 non-null int64\n",
      "Pclass            889 non-null int64\n",
      "Sex               889 non-null int64\n",
      "Age               889 non-null float64\n",
      "SibSp             889 non-null int64\n",
      "Parch             889 non-null int64\n",
      "Fare              889 non-null float64\n",
      "Family            889 non-null int64\n",
      "Embarked_S        889 non-null int64\n",
      "Embarked_C        889 non-null int64\n",
      "Embarked_Q        889 non-null int64\n",
      "Prefix_Mr.        889 non-null int64\n",
      "Prefix_Mrs.       889 non-null int64\n",
      "Prefix_Miss.      889 non-null int64\n",
      "Prefix_Master.    889 non-null int64\n",
      "Prefix_Other      889 non-null int64\n",
      "Prefix_Dr.        889 non-null int64\n",
      "dtypes: float64(2), int64(15)\n",
      "memory usage: 118.1 KB\n"
     ]
    }
   ],
   "source": [
    "df.info()"
   ]
  },
  {
   "cell_type": "markdown",
   "metadata": {
    "hidden": true
   },
   "source": [
    "Voi la! The cleaning is finished. We have 889 entries with purely numerical values."
   ]
  },
  {
   "cell_type": "markdown",
   "metadata": {
    "heading_collapsed": true
   },
   "source": [
    "# Preliminary Feature Importance Tests"
   ]
  },
  {
   "cell_type": "markdown",
   "metadata": {
    "hidden": true
   },
   "source": [
    "For the further ML stage lets make the target values array and three different feature sets. As our purpose is to identify the effect of having family on survival, one feature set is complete, while the other contains no family-related variables and the last consists only of the family-related ones."
   ]
  },
  {
   "cell_type": "code",
   "execution_count": 19,
   "metadata": {
    "hidden": true
   },
   "outputs": [],
   "source": [
    "y = np.array(df['Survived'])\n",
    "X = df.loc[:, ~df.columns.isin(['Survived'])]\n",
    "X_ = df.loc[:, ~df.columns.isin(['Survived', 'SibSp', 'Parch', 'Family'])]\n",
    "_X_ = df[[ 'SibSp', 'Parch', 'Family']]"
   ]
  },
  {
   "cell_type": "markdown",
   "metadata": {
    "heading_collapsed": true,
    "hidden": true
   },
   "source": [
    "## Exploratory Analysis"
   ]
  },
  {
   "cell_type": "markdown",
   "metadata": {
    "hidden": true
   },
   "source": [
    "For the purpose of the visual friendliness for this part only lets return tha names of genders as well as the booleans for the family."
   ]
  },
  {
   "cell_type": "code",
   "execution_count": 20,
   "metadata": {
    "hidden": true
   },
   "outputs": [],
   "source": [
    "df['Sex'] = df['Sex'].replace(0, 'Female').replace(1, 'Male')\n",
    "df['Family'] = df['Family'].astype('bool')"
   ]
  },
  {
   "cell_type": "markdown",
   "metadata": {
    "hidden": true
   },
   "source": [
    "Then lets visually explore the survival rate and overall number of passanger for both genders, all three classes and, what is the most importans for us, the presence of family."
   ]
  },
  {
   "cell_type": "code",
   "execution_count": 21,
   "metadata": {
    "hidden": true
   },
   "outputs": [],
   "source": [
    "mean_exp = pd.DataFrame(df.groupby(['Pclass', 'Sex', 'Family'])['Survived'].mean())\n",
    "mean_exp.reset_index(inplace=True)  \n",
    "mean_exp.rename(columns={'Survived':'Survival Rate'}, inplace=True)"
   ]
  },
  {
   "cell_type": "code",
   "execution_count": 22,
   "metadata": {
    "hidden": true
   },
   "outputs": [],
   "source": [
    "count_exp = pd.DataFrame(df.groupby(['Pclass', 'Sex', 'Family'])['Survived'].count())\n",
    "count_exp.reset_index(inplace=True)\n",
    "count_exp.rename(columns={'Survived':'Count'}, inplace=True)"
   ]
  },
  {
   "cell_type": "code",
   "execution_count": 23,
   "metadata": {
    "hidden": true,
    "scrolled": false
   },
   "outputs": [
    {
     "name": "stderr",
     "output_type": "stream",
     "text": [
      "/Library/Frameworks/Python.framework/Versions/3.6/lib/python3.6/site-packages/seaborn/axisgrid.py:715: UserWarning: Using the barplot function without specifying `order` is likely to produce an incorrect plot.\n",
      "  warnings.warn(warning)\n"
     ]
    },
    {
     "data": {
      "image/png": "[encoded data removed]",
      "text/plain": [
       "<Figure size 432x648 with 6 Axes>"
      ]
     },
     "metadata": {
      "needs_background": "light"
     },
     "output_type": "display_data"
    }
   ],
   "source": [
    "g = sns.FacetGrid(mean_exp, row=\"Pclass\", col=\"Sex\", sharex=False)\n",
    "g.map(sns.barplot, 'Family', 'Survival Rate')\n",
    "plt.show()"
   ]
  },
  {
   "cell_type": "markdown",
   "metadata": {
    "hidden": true
   },
   "source": [
    "As we can see, in the first two calsses the vast majority of women survived independently on the family status. In contrast, the third class women had higher probability to survive if they did not have family. This may ba caused by the fact that the ones with family sank trying to save their children at the bottom-level cabins instead of fighting for lifeboats. \n",
    "\n",
    "In all the classes men with family had higher chance to survive. This may be caused by the fact that they had higher priority for the lifeboats due to the need to join the family."
   ]
  },
  {
   "cell_type": "code",
   "execution_count": 24,
   "metadata": {
    "hidden": true,
    "scrolled": false
   },
   "outputs": [
    {
     "name": "stderr",
     "output_type": "stream",
     "text": [
      "/Library/Frameworks/Python.framework/Versions/3.6/lib/python3.6/site-packages/seaborn/axisgrid.py:715: UserWarning: Using the barplot function without specifying `order` is likely to produce an incorrect plot.\n",
      "  warnings.warn(warning)\n"
     ]
    },
    {
     "data": {
      "image/png": "[encoded data removed]",
      "text/plain": [
       "<Figure size 432x648 with 6 Axes>"
      ]
     },
     "metadata": {
      "needs_background": "light"
     },
     "output_type": "display_data"
    }
   ],
   "source": [
    "g = sns.FacetGrid(count_exp, row=\"Pclass\", col=\"Sex\", sharex=False)\n",
    "g.map(sns.barplot, 'Family', 'Count')\n",
    "plt.show()"
   ]
  },
  {
   "cell_type": "markdown",
   "metadata": {
    "hidden": true
   },
   "source": [
    "As for the absolute numbers, in all three classes women were more likely to have family, while most males were single and with no children at the boat. Also we can see that the majority of passangers were the third class ones, especially the no-family males."
   ]
  },
  {
   "cell_type": "code",
   "execution_count": 25,
   "metadata": {
    "hidden": true
   },
   "outputs": [],
   "source": [
    "df['Sex'] = df['Sex'].replace('Female', 0).replace('Male', 1)\n",
    "df['Family'] = df['Family'].astype('int')"
   ]
  },
  {
   "cell_type": "markdown",
   "metadata": {
    "heading_collapsed": true,
    "hidden": true
   },
   "source": [
    "## Correlation Matrix"
   ]
  },
  {
   "cell_type": "code",
   "execution_count": 26,
   "metadata": {
    "hidden": true
   },
   "outputs": [
    {
     "data": {
      "image/png": "[encoded data removed]",
      "text/plain": [
       "<Figure size 1224x1224 with 2 Axes>"
      ]
     },
     "metadata": {
      "needs_background": "light"
     },
     "output_type": "display_data"
    }
   ],
   "source": [
    "plt.figure(figsize=(len(df.columns),len(df.columns)))\n",
    "ax=sns.heatmap(df[df.corr().index].corr(),annot=True,cmap=\"RdYlGn\")\n",
    "for lab, annot in zip(ax.get_yticklabels(), ax.texts):\n",
    "    text =  lab.get_text()\n",
    "    if text in ['SibSp', 'Parch', 'Family']:\n",
    "        lab.set_weight('bold')\n",
    "        lab.set_size(15)\n",
    "        lab.set_color('navy')\n",
    "        annot.set_weight('bold')\n",
    "        annot.set_color('navy')\n",
    "        annot.set_size(12)"
   ]
  },
  {
   "cell_type": "markdown",
   "metadata": {
    "hidden": true
   },
   "source": [
    "From the overall correlation matrix we may clearly see that despite the fact that both \"SibSp\" and \"Parch\" have different signs and quite low absolute values, the \"Family\" has a more significant positive correlation with survival. Not as significant as Fare or Sex, but still."
   ]
  },
  {
   "cell_type": "markdown",
   "metadata": {
    "heading_collapsed": true,
    "hidden": true
   },
   "source": [
    "## Chi^2 Test"
   ]
  },
  {
   "cell_type": "code",
   "execution_count": 27,
   "metadata": {
    "hidden": true,
    "scrolled": false
   },
   "outputs": [
    {
     "data": {
      "text/html": [
       "<style  type=\"text/css\" >\n",
       "    #T_92ae9074_89e5_11e9_ad02_784f43591435row6_col0 {\n",
       "            background:  lightgreen;\n",
       "        }    #T_92ae9074_89e5_11e9_ad02_784f43591435row9_col0 {\n",
       "            background:  lightgreen;\n",
       "        }    #T_92ae9074_89e5_11e9_ad02_784f43591435row12_col0 {\n",
       "            background:  lightgreen;\n",
       "        }</style><table id=\"T_92ae9074_89e5_11e9_ad02_784f43591435\" ><thead>    <tr>        <th class=\"blank level0\" ></th>        <th class=\"col_heading level0 col0\" >Importance</th>    </tr></thead><tbody>\n",
       "                <tr>\n",
       "                        <th id=\"T_92ae9074_89e5_11e9_ad02_784f43591435level0_row0\" class=\"row_heading level0 row0\" >Fare</th>\n",
       "                        <td id=\"T_92ae9074_89e5_11e9_ad02_784f43591435row0_col0\" class=\"data row0 col0\" >4453.39</td>\n",
       "            </tr>\n",
       "            <tr>\n",
       "                        <th id=\"T_92ae9074_89e5_11e9_ad02_784f43591435level0_row1\" class=\"row_heading level0 row1\" >Prefix_Mr.</th>\n",
       "                        <td id=\"T_92ae9074_89e5_11e9_ad02_784f43591435row1_col0\" class=\"data row1 col0\" >111.586</td>\n",
       "            </tr>\n",
       "            <tr>\n",
       "                        <th id=\"T_92ae9074_89e5_11e9_ad02_784f43591435level0_row2\" class=\"row_heading level0 row2\" >Sex</th>\n",
       "                        <td id=\"T_92ae9074_89e5_11e9_ad02_784f43591435row2_col0\" class=\"data row2 col0\" >91.514</td>\n",
       "            </tr>\n",
       "            <tr>\n",
       "                        <th id=\"T_92ae9074_89e5_11e9_ad02_784f43591435level0_row3\" class=\"row_heading level0 row3\" >Prefix_Mrs.</th>\n",
       "                        <td id=\"T_92ae9074_89e5_11e9_ad02_784f43591435row3_col0\" class=\"data row3 col0\" >87.341</td>\n",
       "            </tr>\n",
       "            <tr>\n",
       "                        <th id=\"T_92ae9074_89e5_11e9_ad02_784f43591435level0_row4\" class=\"row_heading level0 row4\" >Prefix_Miss.</th>\n",
       "                        <td id=\"T_92ae9074_89e5_11e9_ad02_784f43591435row4_col0\" class=\"data row4 col0\" >75.4059</td>\n",
       "            </tr>\n",
       "            <tr>\n",
       "                        <th id=\"T_92ae9074_89e5_11e9_ad02_784f43591435level0_row5\" class=\"row_heading level0 row5\" >Pclass</th>\n",
       "                        <td id=\"T_92ae9074_89e5_11e9_ad02_784f43591435row5_col0\" class=\"data row5 col0\" >30.1353</td>\n",
       "            </tr>\n",
       "            <tr>\n",
       "                        <th id=\"T_92ae9074_89e5_11e9_ad02_784f43591435level0_row6\" class=\"row_heading level0 row6\" >Family</th>\n",
       "                        <td id=\"T_92ae9074_89e5_11e9_ad02_784f43591435row6_col0\" class=\"data row6 col0\" >22.7489</td>\n",
       "            </tr>\n",
       "            <tr>\n",
       "                        <th id=\"T_92ae9074_89e5_11e9_ad02_784f43591435level0_row7\" class=\"row_heading level0 row7\" >Age</th>\n",
       "                        <td id=\"T_92ae9074_89e5_11e9_ad02_784f43591435row7_col0\" class=\"data row7 col0\" >22.3207</td>\n",
       "            </tr>\n",
       "            <tr>\n",
       "                        <th id=\"T_92ae9074_89e5_11e9_ad02_784f43591435level0_row8\" class=\"row_heading level0 row8\" >Embarked_C</th>\n",
       "                        <td id=\"T_92ae9074_89e5_11e9_ad02_784f43591435row8_col0\" class=\"data row8 col0\" >20.8286</td>\n",
       "            </tr>\n",
       "            <tr>\n",
       "                        <th id=\"T_92ae9074_89e5_11e9_ad02_784f43591435level0_row9\" class=\"row_heading level0 row9\" >Parch</th>\n",
       "                        <td id=\"T_92ae9074_89e5_11e9_ad02_784f43591435row9_col0\" class=\"data row9 col0\" >10.4486</td>\n",
       "            </tr>\n",
       "            <tr>\n",
       "                        <th id=\"T_92ae9074_89e5_11e9_ad02_784f43591435level0_row10\" class=\"row_heading level0 row10\" >Prefix_Master.</th>\n",
       "                        <td id=\"T_92ae9074_89e5_11e9_ad02_784f43591435row10_col0\" class=\"data row10 col0\" >6.27898</td>\n",
       "            </tr>\n",
       "            <tr>\n",
       "                        <th id=\"T_92ae9074_89e5_11e9_ad02_784f43591435level0_row11\" class=\"row_heading level0 row11\" >Embarked_S</th>\n",
       "                        <td id=\"T_92ae9074_89e5_11e9_ad02_784f43591435row11_col0\" class=\"data row11 col0\" >5.64389</td>\n",
       "            </tr>\n",
       "            <tr>\n",
       "                        <th id=\"T_92ae9074_89e5_11e9_ad02_784f43591435level0_row12\" class=\"row_heading level0 row12\" >SibSp</th>\n",
       "                        <td id=\"T_92ae9074_89e5_11e9_ad02_784f43591435row12_col0\" class=\"data row12 col0\" >2.39119</td>\n",
       "            </tr>\n",
       "            <tr>\n",
       "                        <th id=\"T_92ae9074_89e5_11e9_ad02_784f43591435level0_row13\" class=\"row_heading level0 row13\" >Prefix_Other</th>\n",
       "                        <td id=\"T_92ae9074_89e5_11e9_ad02_784f43591435row13_col0\" class=\"data row13 col0\" >0.386371</td>\n",
       "            </tr>\n",
       "            <tr>\n",
       "                        <th id=\"T_92ae9074_89e5_11e9_ad02_784f43591435level0_row14\" class=\"row_heading level0 row14\" >Prefix_Dr.</th>\n",
       "                        <td id=\"T_92ae9074_89e5_11e9_ad02_784f43591435row14_col0\" class=\"data row14 col0\" >0.0630398</td>\n",
       "            </tr>\n",
       "            <tr>\n",
       "                        <th id=\"T_92ae9074_89e5_11e9_ad02_784f43591435level0_row15\" class=\"row_heading level0 row15\" >Embarked_Q</th>\n",
       "                        <td id=\"T_92ae9074_89e5_11e9_ad02_784f43591435row15_col0\" class=\"data row15 col0\" >0.0167051</td>\n",
       "            </tr>\n",
       "    </tbody></table>"
      ],
      "text/plain": [
       "<pandas.io.formats.style.Styler at 0x12dd8cd68>"
      ]
     },
     "execution_count": 27,
     "metadata": {},
     "output_type": "execute_result"
    }
   ],
   "source": [
    "best_scores_chi2 = SelectKBest(score_func=chi2, k=len(X.columns)).fit(X,y).scores_\n",
    "importance = pd.DataFrame(best_scores_chi2, columns=['Importance'],index=X.columns)\n",
    "importance.sort_values(by=['Importance'], ascending=False, inplace=True)\n",
    "importance.style.apply(lambda x: ['background: lightgreen' if x.name in ['SibSp', 'Parch', 'Family'] else '' for i in x], \n",
    "               axis=1)"
   ]
  },
  {
   "cell_type": "markdown",
   "metadata": {
    "hidden": true
   },
   "source": [
    "The Chi2 test also leads to a similar conclusion about the importance family-related features."
   ]
  },
  {
   "cell_type": "markdown",
   "metadata": {
    "heading_collapsed": true,
    "hidden": true
   },
   "source": [
    "## Random Forest Feature Importance"
   ]
  },
  {
   "cell_type": "code",
   "execution_count": 28,
   "metadata": {
    "hidden": true,
    "scrolled": false
   },
   "outputs": [
    {
     "data": {
      "text/html": [
       "<style  type=\"text/css\" >\n",
       "    #T_92c777e2_89e5_11e9_affb_784f43591435row5_col0 {\n",
       "            background:  lightgreen;\n",
       "        }    #T_92c777e2_89e5_11e9_affb_784f43591435row7_col0 {\n",
       "            background:  lightgreen;\n",
       "        }    #T_92c777e2_89e5_11e9_affb_784f43591435row9_col0 {\n",
       "            background:  lightgreen;\n",
       "        }</style><table id=\"T_92c777e2_89e5_11e9_affb_784f43591435\" ><thead>    <tr>        <th class=\"blank level0\" ></th>        <th class=\"col_heading level0 col0\" >Importance</th>    </tr></thead><tbody>\n",
       "                <tr>\n",
       "                        <th id=\"T_92c777e2_89e5_11e9_affb_784f43591435level0_row0\" class=\"row_heading level0 row0\" >Fare</th>\n",
       "                        <td id=\"T_92c777e2_89e5_11e9_affb_784f43591435row0_col0\" class=\"data row0 col0\" >0.243056</td>\n",
       "            </tr>\n",
       "            <tr>\n",
       "                        <th id=\"T_92c777e2_89e5_11e9_affb_784f43591435level0_row1\" class=\"row_heading level0 row1\" >Age</th>\n",
       "                        <td id=\"T_92c777e2_89e5_11e9_affb_784f43591435row1_col0\" class=\"data row1 col0\" >0.227615</td>\n",
       "            </tr>\n",
       "            <tr>\n",
       "                        <th id=\"T_92c777e2_89e5_11e9_affb_784f43591435level0_row2\" class=\"row_heading level0 row2\" >Prefix_Mr.</th>\n",
       "                        <td id=\"T_92c777e2_89e5_11e9_affb_784f43591435row2_col0\" class=\"data row2 col0\" >0.139247</td>\n",
       "            </tr>\n",
       "            <tr>\n",
       "                        <th id=\"T_92c777e2_89e5_11e9_affb_784f43591435level0_row3\" class=\"row_heading level0 row3\" >Sex</th>\n",
       "                        <td id=\"T_92c777e2_89e5_11e9_affb_784f43591435row3_col0\" class=\"data row3 col0\" >0.119499</td>\n",
       "            </tr>\n",
       "            <tr>\n",
       "                        <th id=\"T_92c777e2_89e5_11e9_affb_784f43591435level0_row4\" class=\"row_heading level0 row4\" >Pclass</th>\n",
       "                        <td id=\"T_92c777e2_89e5_11e9_affb_784f43591435row4_col0\" class=\"data row4 col0\" >0.0768937</td>\n",
       "            </tr>\n",
       "            <tr>\n",
       "                        <th id=\"T_92c777e2_89e5_11e9_affb_784f43591435level0_row5\" class=\"row_heading level0 row5\" >SibSp</th>\n",
       "                        <td id=\"T_92c777e2_89e5_11e9_affb_784f43591435row5_col0\" class=\"data row5 col0\" >0.0466642</td>\n",
       "            </tr>\n",
       "            <tr>\n",
       "                        <th id=\"T_92c777e2_89e5_11e9_affb_784f43591435level0_row6\" class=\"row_heading level0 row6\" >Prefix_Mrs.</th>\n",
       "                        <td id=\"T_92c777e2_89e5_11e9_affb_784f43591435row6_col0\" class=\"data row6 col0\" >0.0302712</td>\n",
       "            </tr>\n",
       "            <tr>\n",
       "                        <th id=\"T_92c777e2_89e5_11e9_affb_784f43591435level0_row7\" class=\"row_heading level0 row7\" >Parch</th>\n",
       "                        <td id=\"T_92c777e2_89e5_11e9_affb_784f43591435row7_col0\" class=\"data row7 col0\" >0.0288412</td>\n",
       "            </tr>\n",
       "            <tr>\n",
       "                        <th id=\"T_92c777e2_89e5_11e9_affb_784f43591435level0_row8\" class=\"row_heading level0 row8\" >Prefix_Miss.</th>\n",
       "                        <td id=\"T_92c777e2_89e5_11e9_affb_784f43591435row8_col0\" class=\"data row8 col0\" >0.0227785</td>\n",
       "            </tr>\n",
       "            <tr>\n",
       "                        <th id=\"T_92c777e2_89e5_11e9_affb_784f43591435level0_row9\" class=\"row_heading level0 row9\" >Family</th>\n",
       "                        <td id=\"T_92c777e2_89e5_11e9_affb_784f43591435row9_col0\" class=\"data row9 col0\" >0.0135968</td>\n",
       "            </tr>\n",
       "            <tr>\n",
       "                        <th id=\"T_92c777e2_89e5_11e9_affb_784f43591435level0_row10\" class=\"row_heading level0 row10\" >Embarked_C</th>\n",
       "                        <td id=\"T_92c777e2_89e5_11e9_affb_784f43591435row10_col0\" class=\"data row10 col0\" >0.0134377</td>\n",
       "            </tr>\n",
       "            <tr>\n",
       "                        <th id=\"T_92c777e2_89e5_11e9_affb_784f43591435level0_row11\" class=\"row_heading level0 row11\" >Embarked_S</th>\n",
       "                        <td id=\"T_92c777e2_89e5_11e9_affb_784f43591435row11_col0\" class=\"data row11 col0\" >0.0128298</td>\n",
       "            </tr>\n",
       "            <tr>\n",
       "                        <th id=\"T_92c777e2_89e5_11e9_affb_784f43591435level0_row12\" class=\"row_heading level0 row12\" >Prefix_Master.</th>\n",
       "                        <td id=\"T_92c777e2_89e5_11e9_affb_784f43591435row12_col0\" class=\"data row12 col0\" >0.00956871</td>\n",
       "            </tr>\n",
       "            <tr>\n",
       "                        <th id=\"T_92c777e2_89e5_11e9_affb_784f43591435level0_row13\" class=\"row_heading level0 row13\" >Embarked_Q</th>\n",
       "                        <td id=\"T_92c777e2_89e5_11e9_affb_784f43591435row13_col0\" class=\"data row13 col0\" >0.00803879</td>\n",
       "            </tr>\n",
       "            <tr>\n",
       "                        <th id=\"T_92c777e2_89e5_11e9_affb_784f43591435level0_row14\" class=\"row_heading level0 row14\" >Prefix_Other</th>\n",
       "                        <td id=\"T_92c777e2_89e5_11e9_affb_784f43591435row14_col0\" class=\"data row14 col0\" >0.00530651</td>\n",
       "            </tr>\n",
       "            <tr>\n",
       "                        <th id=\"T_92c777e2_89e5_11e9_affb_784f43591435level0_row15\" class=\"row_heading level0 row15\" >Prefix_Dr.</th>\n",
       "                        <td id=\"T_92c777e2_89e5_11e9_affb_784f43591435row15_col0\" class=\"data row15 col0\" >0.00235668</td>\n",
       "            </tr>\n",
       "    </tbody></table>"
      ],
      "text/plain": [
       "<pandas.io.formats.style.Styler at 0x13206ff98>"
      ]
     },
     "execution_count": 28,
     "metadata": {},
     "output_type": "execute_result"
    }
   ],
   "source": [
    "best_scores_forest = RandomForestClassifier(n_estimators=100, max_depth=None).fit(X, y).feature_importances_\n",
    "importance = pd.DataFrame(best_scores_forest, columns=['Importance'],index=X.columns)\n",
    "importance.sort_values(by=['Importance'], ascending=False, inplace=True)\n",
    "importance.style.apply(lambda x: ['background: lightgreen' if x.name in ['SibSp', 'Parch', 'Family'] else '' for i in x], \n",
    "               axis=1)"
   ]
  },
  {
   "cell_type": "markdown",
   "metadata": {
    "hidden": true
   },
   "source": [
    "The Random Forest classifier also indicates the average importance of family-related features. Due to the logics of random forest and the fact that the value of \"Family\" is derived from the values of two primary family-related features, it is not surprising that \"Family\" is considered the least important out of the three."
   ]
  },
  {
   "cell_type": "markdown",
   "metadata": {
    "heading_collapsed": true
   },
   "source": [
    "# Prediction"
   ]
  },
  {
   "cell_type": "markdown",
   "metadata": {
    "hidden": true
   },
   "source": [
    "In this section we prove that the presence of family affects the survival probability. To do this we estimate the accuracy of various ML models with the survival as the target variable and three different possible feature matrices: the full one, the one without family-related features and the one with family-related features only.\n",
    "\n",
    "If our assumption (the presence of family affects the survival probability but is not among the most significant factors) is correct, the following results should appear in the majority of models:\n",
    "\n",
    "1) The score for the model using only family-related features should be better than the baseline.\n",
    "\n",
    "2) The score for the full model should be slightly higher than for the one without family-related features.\n",
    "\n",
    "Lets check."
   ]
  },
  {
   "cell_type": "markdown",
   "metadata": {
    "hidden": true
   },
   "source": [
    "First of all, as the majority of passanger did not survive, the baseline accuracy is the one which appears if we label all the cases as non-survived."
   ]
  },
  {
   "cell_type": "code",
   "execution_count": 29,
   "metadata": {
    "hidden": true
   },
   "outputs": [
    {
     "name": "stdout",
     "output_type": "stream",
     "text": [
      "The mode is 0.\n",
      "Therefore the baseline accuracy score is 0.6175478065241844.\n"
     ]
    }
   ],
   "source": [
    "print('The mode is {}.'.format(int(stats.mode(y)[0])))\n",
    "baseline = 1 - y.sum()/len(y)\n",
    "print('Therefore the baseline accuracy score is {}.'.format(baseline))"
   ]
  },
  {
   "cell_type": "code",
   "execution_count": 30,
   "metadata": {
    "hidden": true
   },
   "outputs": [],
   "source": [
    "def grid_classify(classifier, param):\n",
    "    grid = GridSearchCV(estimator = classifier, param_grid = param, scoring = 'accuracy', cv = 10)\n",
    "    \n",
    "    grid_full = grid.fit(X, y)\n",
    "    accuracy_full = grid_full.best_score_\n",
    "    param_full = grid_full.best_params_\n",
    "    \n",
    "    \n",
    "    grid_no_family = grid.fit(X_, y)\n",
    "    accuracy_no_family = grid_no_family.best_score_\n",
    "    param_no_family = grid_no_family.best_params_\n",
    "    \n",
    "    grid_family = grid.fit(_X_, y)\n",
    "    accuracy_family = grid_family.best_score_\n",
    "    param_family = grid_family.best_params_\n",
    "    \n",
    "    print('The best score for full data is\\n{}\\nwith the following parameters:\\n{}'.format(accuracy_full, \n",
    "                                                                                    param_full))\n",
    "    print()\n",
    "    print('The best score without family is\\n{}\\nwith the following parameters:\\n{}'.format(accuracy_no_family,\n",
    "                                                                                     param_no_family))\n",
    "    \n",
    "    print()\n",
    "    print('The best score for only family is\\n{}\\nwith the following parameters:\\n{}'.format(accuracy_family,\n",
    "                                                                                     param_family))\n",
    "    pass"
   ]
  },
  {
   "cell_type": "markdown",
   "metadata": {
    "hidden": true
   },
   "source": [
    "For the purepose of clean experiment we use cross-validation and grid parameter calibration for each of three cases individually."
   ]
  },
  {
   "cell_type": "markdown",
   "metadata": {
    "heading_collapsed": true,
    "hidden": true
   },
   "source": [
    "## Logistic Regression"
   ]
  },
  {
   "cell_type": "code",
   "execution_count": 31,
   "metadata": {
    "hidden": true,
    "scrolled": true
   },
   "outputs": [
    {
     "name": "stdout",
     "output_type": "stream",
     "text": [
      "The best score for full data is\n",
      "0.829021372328459\n",
      "with the following parameters:\n",
      "{'C': 10, 'penalty': 'l2'}\n",
      "\n",
      "The best score without family is\n",
      "0.7997750281214848\n",
      "with the following parameters:\n",
      "{'C': 100, 'penalty': 'l1'}\n",
      "\n",
      "The best score for only family is\n",
      "0.6636670416197975\n",
      "with the following parameters:\n",
      "{'C': 1, 'penalty': 'l1'}\n"
     ]
    }
   ],
   "source": [
    "log_reg = LogisticRegression(max_iter = 1000, solver = 'liblinear', random_state = 0)\n",
    "param_logreg = [{'C': [0.01, 0.1, 1, 10, 100], 'penalty': ['l1','l2']}]\n",
    "grid_classify(log_reg, param_logreg)"
   ]
  },
  {
   "cell_type": "markdown",
   "metadata": {
    "heading_collapsed": true,
    "hidden": true
   },
   "source": [
    "## Desicion Tree"
   ]
  },
  {
   "cell_type": "code",
   "execution_count": 32,
   "metadata": {
    "hidden": true
   },
   "outputs": [],
   "source": [
    "tree = DecisionTreeClassifier(criterion = 'entropy', random_state = 0)\n",
    "param_tree = [{'max_depth' : [None, 1, 3, 5, 7, 9], \n",
    "               'min_samples_split': [5, 10, 15, 20, 25, 30], \n",
    "               'min_samples_leaf': [1, 2, 3, 4, 5], \n",
    "               'max_features': ['auto', 'log2']}]"
   ]
  },
  {
   "cell_type": "code",
   "execution_count": 33,
   "metadata": {
    "hidden": true
   },
   "outputs": [
    {
     "name": "stdout",
     "output_type": "stream",
     "text": [
      "The best score for full data is\n",
      "0.8278965129358831\n",
      "with the following parameters:\n",
      "{'max_depth': 9, 'max_features': 'auto', 'min_samples_leaf': 1, 'min_samples_split': 15}\n",
      "\n",
      "The best score without family is\n",
      "0.8211473565804275\n",
      "with the following parameters:\n",
      "{'max_depth': 7, 'max_features': 'auto', 'min_samples_leaf': 4, 'min_samples_split': 10}\n",
      "\n",
      "The best score for only family is\n",
      "0.6760404949381328\n",
      "with the following parameters:\n",
      "{'max_depth': None, 'max_features': 'auto', 'min_samples_leaf': 1, 'min_samples_split': 15}\n"
     ]
    }
   ],
   "source": [
    "grid_classify(tree, param_tree)"
   ]
  },
  {
   "cell_type": "markdown",
   "metadata": {
    "heading_collapsed": true,
    "hidden": true
   },
   "source": [
    "## Random Forest"
   ]
  },
  {
   "cell_type": "code",
   "execution_count": 34,
   "metadata": {
    "hidden": true
   },
   "outputs": [],
   "source": [
    "forest = RandomForestClassifier(random_state = 0)\n",
    "param_forest = [{'n_estimators': [100, 200, 300], \n",
    "                 'max_depth': [3, 5, 7, 9], \n",
    "                 'min_samples_split': [2, 4, 6]}]"
   ]
  },
  {
   "cell_type": "code",
   "execution_count": 35,
   "metadata": {
    "hidden": true,
    "scrolled": true
   },
   "outputs": [
    {
     "name": "stdout",
     "output_type": "stream",
     "text": [
      "The best score for full data is\n",
      "0.8335208098987626\n",
      "with the following parameters:\n",
      "{'max_depth': 7, 'min_samples_split': 6, 'n_estimators': 200}\n",
      "\n",
      "The best score without family is\n",
      "0.8368953880764904\n",
      "with the following parameters:\n",
      "{'max_depth': 7, 'min_samples_split': 6, 'n_estimators': 200}\n",
      "\n",
      "The best score for only family is\n",
      "0.6782902137232846\n",
      "with the following parameters:\n",
      "{'max_depth': 5, 'min_samples_split': 2, 'n_estimators': 100}\n"
     ]
    }
   ],
   "source": [
    "grid_classify(forest, param_forest)"
   ]
  },
  {
   "cell_type": "markdown",
   "metadata": {
    "hidden": true
   },
   "source": [
    "As we can see, this is the case where the accuracy whithout family is the highest. This happens in about half of the cases dependent on the random state."
   ]
  },
  {
   "cell_type": "markdown",
   "metadata": {
    "heading_collapsed": true,
    "hidden": true
   },
   "source": [
    "## SGClassifier"
   ]
  },
  {
   "cell_type": "code",
   "execution_count": 36,
   "metadata": {
    "hidden": true,
    "scrolled": true
   },
   "outputs": [],
   "source": [
    "sgd = SGDClassifier(max_iter=1000, penalty = 'elasticnet', random_state = 0)\n",
    "param_sgd = [{'alpha' : [.00001, .0001, .001], \n",
    "              'l1_ratio' : [0, .2, .5, .8, 1], \n",
    "              'max_iter':[100, 1000]}]"
   ]
  },
  {
   "cell_type": "code",
   "execution_count": 37,
   "metadata": {
    "hidden": true
   },
   "outputs": [
    {
     "name": "stdout",
     "output_type": "stream",
     "text": [
      "The best score for full data is\n",
      "0.7896512935883014\n",
      "with the following parameters:\n",
      "{'alpha': 0.0001, 'l1_ratio': 0.8, 'max_iter': 100}\n",
      "\n",
      "The best score without family is\n",
      "0.7862767154105736\n",
      "with the following parameters:\n",
      "{'alpha': 0.001, 'l1_ratio': 1, 'max_iter': 100}\n",
      "\n",
      "The best score for only family is\n",
      "0.6636670416197975\n",
      "with the following parameters:\n",
      "{'alpha': 0.001, 'l1_ratio': 0.2, 'max_iter': 100}\n"
     ]
    },
    {
     "name": "stderr",
     "output_type": "stream",
     "text": [
      "/Library/Frameworks/Python.framework/Versions/3.6/lib/python3.6/site-packages/sklearn/model_selection/_search.py:813: DeprecationWarning: The default of the `iid` parameter will change from True to False in version 0.22 and will be removed in 0.24. This will change numeric results when test-set sizes are unequal.\n",
      "  DeprecationWarning)\n"
     ]
    }
   ],
   "source": [
    "grid_classify(sgd, param_sgd)"
   ]
  },
  {
   "cell_type": "markdown",
   "metadata": {
    "heading_collapsed": true,
    "hidden": true
   },
   "source": [
    "## Gradient Boosting "
   ]
  },
  {
   "cell_type": "code",
   "execution_count": 38,
   "metadata": {
    "hidden": true
   },
   "outputs": [],
   "source": [
    "g_boost = GradientBoostingClassifier(random_state = 0)\n",
    "param_g_boost = [{'min_samples_split': [5, 10, 15, 20, 25, 30], \n",
    "                  'min_samples_leaf': [1, 2, 3, 4, 5], \n",
    "                  'max_features': ['auto', 'log2']}]"
   ]
  },
  {
   "cell_type": "code",
   "execution_count": 39,
   "metadata": {
    "hidden": true,
    "scrolled": true
   },
   "outputs": [
    {
     "name": "stdout",
     "output_type": "stream",
     "text": [
      "The best score for full data is\n",
      "0.8391451068616423\n",
      "with the following parameters:\n",
      "{'max_features': 'auto', 'min_samples_leaf': 2, 'min_samples_split': 25}\n",
      "\n",
      "The best score without family is\n",
      "0.8357705286839145\n",
      "with the following parameters:\n",
      "{'max_features': 'auto', 'min_samples_leaf': 2, 'min_samples_split': 20}\n",
      "\n",
      "The best score for only family is\n",
      "0.6782902137232846\n",
      "with the following parameters:\n",
      "{'max_features': 'auto', 'min_samples_leaf': 1, 'min_samples_split': 15}\n"
     ]
    }
   ],
   "source": [
    "grid_classify(g_boost, param_g_boost)"
   ]
  },
  {
   "cell_type": "markdown",
   "metadata": {
    "hidden": true
   },
   "source": [
    "Yes, the majority listed models prove our hypothesis!"
   ]
  },
  {
   "cell_type": "markdown",
   "metadata": {
    "heading_collapsed": true
   },
   "source": [
    "# Conclusion"
   ]
  },
  {
   "cell_type": "markdown",
   "metadata": {
    "hidden": true
   },
   "source": [
    "Overall, we see that the presence of family ceteris paribus increase the survival chance. The information about the family status has certain significance, however not the highest, and in the majority of models brings extra explanatory power to the other features.\n",
    "\n",
    "Limitations: the deeper analysis may require the exploratory analysis of the relations between various family-related features (not only \"Family\") with multiple other features (not only \"Class\" and \"Sex\"). Also, other ML models such as SVM or Neural Networks could be used to further prove the assumption. However, as нет пределов совершенству, it seems that the analysis above is enough as a proof of the mentioned hypothesis."
   ]
  }
 ],
 "metadata": {
  "kernelspec": {
   "display_name": "Python 3",
   "language": "python",
   "name": "python3"
  },
  "language_info": {
   "codemirror_mode": {
    "name": "ipython",
    "version": 3
   },
   "file_extension": ".py",
   "mimetype": "text/x-python",
   "name": "python",
   "nbconvert_exporter": "python",
   "pygments_lexer": "ipython3",
   "version": "3.7.3"
  }
 },
 "nbformat": 4,
 "nbformat_minor": 2
}
